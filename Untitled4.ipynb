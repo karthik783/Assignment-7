{
  "nbformat": 4,
  "nbformat_minor": 0,
  "metadata": {
    "colab": {
      "name": "Untitled4.ipynb",
      "provenance": [],
      "collapsed_sections": [],
      "authorship_tag": "ABX9TyNPxqTtKeW2sesKOlH1xOFL",
      "include_colab_link": true
    },
    "kernelspec": {
      "name": "python3",
      "display_name": "Python 3"
    }
  },
  "cells": [
    {
      "cell_type": "markdown",
      "metadata": {
        "id": "view-in-github",
        "colab_type": "text"
      },
      "source": [
        "<a href=\"https://colab.research.google.com/github/karthik783/Assignment-7/blob/master/Untitled4.ipynb\" target=\"_parent\"><img src=\"https://colab.research.google.com/assets/colab-badge.svg\" alt=\"Open In Colab\"/></a>"
      ]
    },
    {
      "cell_type": "code",
      "metadata": {
        "id": "6bc9NiBqK9x2",
        "colab_type": "code",
        "colab": {
          "base_uri": "https://localhost:8080/",
          "height": 50
        },
        "outputId": "98c1b4a2-7269-4ad8-db1c-c9271e633046"
      },
      "source": [
        "#Convert Binary number to decimal\n",
        "b_num=list(input(\"Input a binary number: \"))\n",
        "value = 0\n",
        "for i in range(len(b_num)):\n",
        "    digit = b_num.pop()\n",
        "    if digit == '1':\n",
        "        value = value + pow(2, i)\n",
        "print(\"The decimal value of the number is\",value)"
      ],
      "execution_count": 1,
      "outputs": [
        {
          "output_type": "stream",
          "text": [
            "Input a binary number: 258\n",
            "The decimal value of the number is 0\n"
          ],
          "name": "stdout"
        }
      ]
    },
    {
      "cell_type": "code",
      "metadata": {
        "id": "axwZR31LLE8v",
        "colab_type": "code",
        "colab": {
          "base_uri": "https://localhost:8080/",
          "height": 67
        },
        "outputId": "c33c69be-13bf-44df-d827-a788e38d369e"
      },
      "source": [
        "#Generate first N number of Fibonacci numbers. Take N value from user\n",
        "n = int(input(\"Enter the value of 'n': \"))\n",
        "a=0\n",
        "b=1\n",
        "print(\"Fibonacci Series:\")\n",
        "for i in range(1,n+1):\n",
        "  print(a,end='\\t')\n",
        "  c=a+b\n",
        "  a=b\n",
        "  b=c"
      ],
      "execution_count": 2,
      "outputs": [
        {
          "output_type": "stream",
          "text": [
            "Enter the value of 'n': 9\n",
            "Fibonacci Series:\n",
            "0\t1\t1\t2\t3\t5\t8\t13\t21\t"
          ],
          "name": "stdout"
        }
      ]
    },
    {
      "cell_type": "code",
      "metadata": {
        "id": "zDySfxFMLLCA",
        "colab_type": "code",
        "colab": {
          "base_uri": "https://localhost:8080/",
          "height": 202
        },
        "outputId": "3acea8bb-02f1-4611-ab9c-1c87c5ab19fd"
      },
      "source": [
        "8#Display multiplication table of K. Take k value from user\n",
        "num = int(input(\"Enter a number:\"))\n",
        "for i in range(1, 11):\n",
        "   print(num, 'x', i, '=', num*i)"
      ],
      "execution_count": 3,
      "outputs": [
        {
          "output_type": "stream",
          "text": [
            "Enter a number:3\n",
            "3 x 1 = 3\n",
            "3 x 2 = 6\n",
            "3 x 3 = 9\n",
            "3 x 4 = 12\n",
            "3 x 5 = 15\n",
            "3 x 6 = 18\n",
            "3 x 7 = 21\n",
            "3 x 8 = 24\n",
            "3 x 9 = 27\n",
            "3 x 10 = 30\n"
          ],
          "name": "stdout"
        }
      ]
    },
    {
      "cell_type": "code",
      "metadata": {
        "id": "19ad2TRXLQlI",
        "colab_type": "code",
        "colab": {
          "base_uri": "https://localhost:8080/",
          "height": 370
        },
        "outputId": "4c83820e-3875-4a17-8745-20a6f211699a"
      },
      "source": [
        "#Take 10 integers from keyboard using loop and print their average value on the screen and print the pattern using loop\n",
        "l1=[]\n",
        "for i in range(0,10):\n",
        "    x=int(input(\"Enter number:\"))\n",
        "    l1.append(x)\n",
        "suml=sum(l1)/10\n",
        "print(\"average=\",suml)\n",
        "for j in range(5):\n",
        "    for k in range(j):\n",
        "        print(\"*\",end=' ')\n",
        "    print('\\n')"
      ],
      "execution_count": 4,
      "outputs": [
        {
          "output_type": "stream",
          "text": [
            "Enter number:5\n",
            "Enter number:1\n",
            "Enter number:2\n",
            "Enter number:7\n",
            "Enter number:9\n",
            "Enter number:3\n",
            "Enter number:6\n",
            "Enter number:1\n",
            "Enter number:5\n",
            "Enter number:10\n",
            "average= 4.9\n",
            "\n",
            "\n",
            "* \n",
            "\n",
            "* * \n",
            "\n",
            "* * * \n",
            "\n",
            "* * * * \n",
            "\n"
          ],
          "name": "stdout"
        }
      ]
    }
  ]
}